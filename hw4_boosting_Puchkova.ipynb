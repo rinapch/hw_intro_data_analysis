{
 "cells": [
  {
   "cell_type": "markdown",
   "metadata": {
    "colab_type": "text",
    "id": "IHgmxWG_7lnE"
   },
   "source": [
    "# Введение в анализ данных\n",
    "## НИУ ВШЭ, 2019-2020 учебный год\n",
    "\n",
    "### Домашнее задание №4\n",
    "\n",
    "Задание выполнил(а): Пучкова Арина\n",
    "\n",
    "### Общая информация\n",
    "\n",
    "__Дата выдачи:__ 18.05.2020\n",
    "\n",
    "__Дедлайн:__ 23:59 27.05.2020\n",
    "\n",
    "\n",
    "### Оценивание и штрафы\n",
    "\n",
    "Оценка за ДЗ вычисляется по следующей формуле:\n",
    "\n",
    "$$\n",
    "min(\\text{points}, 17)  \\times 10 / 17,\n",
    "$$\n",
    "\n",
    "где points — количество баллов за обязательную часть, которое вы набрали. Максимальное число баллов, которое можно получить за обязательную часть — 17, если вы получите 19 или 20 баллов вы также получите 1 бонусный балл сверху. Также вы можете использовать бонусные баллы, которые накопили ранее.\n",
    "\n",
    "За сдачу задания позже срока на итоговую оценку за задание накладывается штраф в размере 1 балл в день, но получить отрицательную оценку нельзя.\n",
    "\n",
    "__Внимание!__ Домашнее задание выполняется самостоятельно. «Похожие» решения считаются плагиатом и все задействованные студенты (в том числе те, у кого списали) не могут получить за него больше 0 баллов.\n",
    "\n",
    "### Формат сдачи\n",
    "\n",
    "Загрузка файлов с решениями происходит в системе [Anytask](https://anytask.org/).\n",
    "\n",
    "Инвайт для группы ИАД-6: rd5CNrr\n",
    "\n",
    "Перед отправкой перезагрузите ноутбук и проверьте, что все ячейки могут быть последовательно выполнены. Ноутбук должен запускаться с использованием python 3.6+"
   ]
  },
  {
   "cell_type": "code",
   "execution_count": 1,
   "metadata": {},
   "outputs": [],
   "source": [
    "import numpy as np\n",
    "from sklearn.datasets import load_breast_cancer, load_boston\n",
    "from sklearn.metrics import accuracy_score, mean_squared_error\n",
    "from sklearn.model_selection import train_test_split\n",
    "from sklearn.tree import DecisionTreeClassifier, DecisionTreeRegressor"
   ]
  },
  {
   "cell_type": "markdown",
   "metadata": {},
   "source": [
    "## Random Forest своими руками (4 балла)\n",
    "\n",
    "Реализуйте алгоритм случайного леса. В соответствии с построением алгоритма, ваша реализация должна сочетать в себе метод бэггинга и метод случайных подмножеств. Также она должна работать для двух типов задач: как для задачи регрессии, так и для задачи классификации.\n",
    "\n",
    "*Примечание. Вы можете использовать `DecisionTree` из `sklearn`.*"
   ]
  },
  {
   "cell_type": "code",
   "execution_count": 2,
   "metadata": {},
   "outputs": [],
   "source": [
    "class RandomForest:\n",
    "    def __init__(self, n_estimators, max_depth, max_features='sqrt', task_type='regression'):\n",
    "        \"\"\"\n",
    "        PARAMETERS:\n",
    "        n_estimators - number of trees in the ensemble\n",
    "        max_depth - maximum depth of a tree\n",
    "        max_features - 'sqrt' for sqrt(n_features)\n",
    "                       'log2' for log2(n_features)\n",
    "                        None  for n_features \n",
    "                        as maximum features for each split in DecisionTree from sklearn\n",
    "        task_type - 'regression' or 'classification'\n",
    "        \"\"\"\n",
    "        self.n_estimators = n_estimators\n",
    "        self.max_depth = max_depth\n",
    "        self.task_type = task_type\n",
    "        self.max_features = max_features\n",
    "        \n",
    "        \n",
    "    def fit(self, X_train, y_train):\n",
    "        \"\"\"\n",
    "        INPUT:\n",
    "        X_train - np.array of shape (k, d)\n",
    "        y_train - np.array of shape (k,)\n",
    "        \"\"\"\n",
    "        self.X_train = X_train\n",
    "        self.y_train = y_train\n",
    "\n",
    "        \n",
    "    def predict(self, X_test):\n",
    "        \"\"\"\n",
    "        INPUT:\n",
    "        X_test - np.array of shape (m, d)\n",
    "        \n",
    "        OUTPUT:\n",
    "        y_pred - np.array of shape (m,)\n",
    "        \"\"\"\n",
    "        self.X_test = X_test\n",
    "        \n",
    "        q_features = 0 #это максимум признаков, которые будут использоваться в деревьях. Если в дерево поступает max_features меньше,\n",
    "        #чем число фичей в X_train, то признаки будут выбраны рандомно – что нам и нужно. \n",
    "        if self.max_features == 'sqrt':\n",
    "            q_features = int(np.sqrt(self.X_train.shape[1]))\n",
    "        elif self.max_features == 'log2':\n",
    "            q_features = int(np.log2(self.X_train.shape[1]))\n",
    "        elif self.max_features == None: \n",
    "            q_features = int(self.X_train.shape[1]) \n",
    "        \n",
    "        forest = []\n",
    "        for n in range(self.n_estimators):\n",
    "            bootstrap = np.random.choice(np.arange(0, X_train.shape[0]), size = X_train.shape[0], replace = True)\n",
    "            #это строка создает вектор длиной равной числу наблюдений. Там могут быть 0, то есть какие-то признаки не войдут\n",
    "            #или число может повториться – и наблюдение войдет два раза. Полученные числа – это индексы наблюдений, с поомщью \n",
    "            #них выбираем некоторые строки из X_train и y_train. Поскольку это строчка в цикле, который пробегает по всем деревьям,\n",
    "            #своя выборка получается для каждого дерева. \n",
    "            bootstrap_X = self.X_train[bootstrap]\n",
    "            bootstrap_y = self.y_train[bootstrap]\n",
    "            if self.task_type == 'regression':\n",
    "                grow_tree = DecisionTreeRegressor(max_depth = self.max_depth, max_features = q_features)\n",
    "            elif self.task_type == 'classification':\n",
    "                grow_tree = DecisionTreeClassifier(max_depth = self.max_depth, max_features = q_features)\n",
    "            grow_tree.fit(bootstrap_X, bootstrap_y)\n",
    "            forest.append(grow_tree)\n",
    "            \n",
    "            if self.task_type == 'regression':\n",
    "                y_pred = np.mean([tree.predict(self.X_test) for tree in forest], axis = 0) #усредняем ответы деревьев\n",
    "                \n",
    "            elif self.task_type == 'classification':\n",
    "                y_pred = [np.array(tree.predict(self.X_test)) for tree in forest] #тут предсказания всех деревьев по каждому наблюдени/\n",
    "            #то есть для каждого наблюдения у нас n деревьев. Для каждого i-ого наблюдения X_test нужно взять моду ответов \n",
    "            #n деревьев. \n",
    "                y_pred = [int(np.median(row)) for row in np.array(y_pred).T] #эта ужасно кривая строчка выводит\n",
    "                #медиану по каждому столбцу – самый популярный класс будет медианой \n",
    "    \n",
    "\n",
    "        return y_pred"
   ]
  },
  {
   "cell_type": "markdown",
   "metadata": {},
   "source": [
    "Проверьте вашу реализацию на задаче регрессии. Подберите оптимальные гиперпараметры, чтобы получить MSE < 10.25 **(не меняйте параметры сида)**."
   ]
  },
  {
   "cell_type": "code",
   "execution_count": 3,
   "metadata": {},
   "outputs": [],
   "source": [
    "boston = load_boston()\n",
    "X = boston.data\n",
    "y = boston.target\n",
    "X_train, X_test, y_train, y_test = train_test_split(X, y, test_size=0.25, random_state=13)"
   ]
  },
  {
   "cell_type": "code",
   "execution_count": 4,
   "metadata": {},
   "outputs": [
    {
     "data": {
      "text/plain": [
       "127"
      ]
     },
     "execution_count": 4,
     "metadata": {},
     "output_type": "execute_result"
    }
   ],
   "source": [
    "len(y_test)"
   ]
  },
  {
   "cell_type": "code",
   "execution_count": 5,
   "metadata": {},
   "outputs": [],
   "source": [
    "np.random.seed(19052019)\n",
    "\n",
    "selfRF = RandomForest(n_estimators = 100, max_depth = 20, max_features = 'sqrt', task_type = 'regression')\n",
    "selfRF.fit(X_train, y_train)\n",
    "y_pred = selfRF.predict(X_test)"
   ]
  },
  {
   "cell_type": "code",
   "execution_count": 6,
   "metadata": {},
   "outputs": [
    {
     "data": {
      "text/plain": [
       "127"
      ]
     },
     "execution_count": 6,
     "metadata": {},
     "output_type": "execute_result"
    }
   ],
   "source": [
    "len(y_pred)"
   ]
  },
  {
   "cell_type": "code",
   "execution_count": 7,
   "metadata": {},
   "outputs": [
    {
     "data": {
      "text/plain": [
       "9.981354332594956"
      ]
     },
     "execution_count": 7,
     "metadata": {},
     "output_type": "execute_result"
    }
   ],
   "source": [
    "mean_squared_error(y_test, y_pred)"
   ]
  },
  {
   "cell_type": "markdown",
   "metadata": {},
   "source": [
    "Проверьте вашу реализацию на задаче классификации. Подберите оптимальные гиперпараметры, чтобы получить accuracy > 0.83 **(не меняйте параметры сида)**."
   ]
  },
  {
   "cell_type": "code",
   "execution_count": 8,
   "metadata": {},
   "outputs": [],
   "source": [
    "breast_cancer = load_breast_cancer()\n",
    "X = breast_cancer.data\n",
    "y = breast_cancer.target\n",
    "X_train, X_test, y_train, y_test = train_test_split(X, y, test_size=0.25, random_state=13)"
   ]
  },
  {
   "cell_type": "code",
   "execution_count": 9,
   "metadata": {},
   "outputs": [],
   "source": [
    "np.random.seed(19052019)\n",
    "\n",
    "classRF = RandomForest(n_estimators = 100, max_depth = 20, max_features = 'sqrt', task_type = 'classification')\n",
    "classRF.fit(X_train, y_train)\n",
    "y_pred = classRF.predict(X_test)"
   ]
  },
  {
   "cell_type": "code",
   "execution_count": 10,
   "metadata": {},
   "outputs": [
    {
     "data": {
      "text/plain": [
       "0.9300699300699301"
      ]
     },
     "execution_count": 10,
     "metadata": {},
     "output_type": "execute_result"
    }
   ],
   "source": [
    "accuracy_score(y_test,y_pred)"
   ]
  },
  {
   "cell_type": "code",
   "execution_count": 11,
   "metadata": {},
   "outputs": [
    {
     "data": {
      "text/plain": [
       "0"
      ]
     },
     "execution_count": 11,
     "metadata": {},
     "output_type": "execute_result"
    }
   ],
   "source": [
    "int(np.median([1, 0, 1, 1, 0, 0, 0, 1]))"
   ]
  },
  {
   "cell_type": "code",
   "execution_count": 227,
   "metadata": {},
   "outputs": [
    {
     "data": {
      "text/plain": [
       "143"
      ]
     },
     "execution_count": 227,
     "metadata": {},
     "output_type": "execute_result"
    }
   ],
   "source": [
    "len(y_test)"
   ]
  },
  {
   "cell_type": "code",
   "execution_count": 12,
   "metadata": {},
   "outputs": [
    {
     "data": {
      "text/plain": [
       "143"
      ]
     },
     "execution_count": 12,
     "metadata": {},
     "output_type": "execute_result"
    }
   ],
   "source": [
    "len(y_pred)"
   ]
  },
  {
   "cell_type": "markdown",
   "metadata": {},
   "source": [
    "## Градиентный бустинг своими руками (5 + 1 баллов)\n",
    "\n",
    "Реализуйте алгоритм градиентного бустинга для регрессии. Напомним основные формулы.\n",
    "\n",
    "Обозначим текущую композицию на $N-1$ шаге за $a_{N - 1}(x_i)$. Следующий базовый алгоритм $b_N(x_i)$ обучается на ответах $-\\frac{\\partial L(y_i, z)}{\\partial z}\\Bigl|_{z = a_{N - 1}(x_i)}$, где $L(y_i, z)$ — значение функции потерь на объекте при правильном ответе $y_i$ и предсказании $z$. Композиция на следующем шаге получается следующим образом:\n",
    "\n",
    "$$\n",
    "a_N(x_i) = a_{N-1}(x_i) + \\nu\\gamma_Nb_N(x_i)\n",
    "$$\n",
    "\n",
    "Здесь $\\nu$ — гиперпараметр learning rate, $\\gamma_N$ — оптимальный вес, настраиваемый на каждом шаге алгоритма, который можно найти по следующей формуле (обратите внимание на отсутствие $\\nu$):\n",
    "\n",
    "$$\n",
    "\\gamma_N = \\mathrm{arg}\\min_\\gamma \\frac{1}{\\ell}\\sum\\limits_{i=1}^{\\ell}L\\left(y_i, a_{N - 1}(x_i) + \\gamma b_N(x_i)\\right)\n",
    "$$\n",
    "\n",
    "Можете принять $\\gamma_N = 1$ для каждого $N$. Однако чтобы получить дополнительный 1 балл вам нужно реализовать нахождение оптимального $\\gamma_N$ на каждом шаге.\n",
    "\n",
    "В качестве функции потерь возьмите MSE (какая у него будет производная?).\n",
    "\n",
    "*Примечание. Вы можете использовать `DecisionTree` из `sklearn` и методы оптимизации из различных библиотек.*"
   ]
  },
  {
   "cell_type": "code",
   "execution_count": 13,
   "metadata": {},
   "outputs": [],
   "source": [
    "# это вам может помочь для поиска оптимальных гамма\n",
    "\n",
    "from scipy.optimize import minimize"
   ]
  },
  {
   "cell_type": "code",
   "execution_count": 14,
   "metadata": {},
   "outputs": [],
   "source": [
    "class GradientBoosting:\n",
    "    def __init__(self, n_estimators, max_depth, learning_rate = 0.1):\n",
    "        \"\"\"\n",
    "        PARAMETERS:\n",
    "        n_estimators - number of trees in the ensemble\n",
    "        max_depth - maximum depth of a tree\n",
    "        learning_rate - coefficient by which new algorithm result is multiplied\n",
    "        \"\"\"\n",
    "        self.n_estimators = n_estimators\n",
    "        self.max_depth = max_depth\n",
    "        self.learning_rate = learning_rate\n",
    "        \n",
    "        \n",
    "    def fit(self, X_train, y_train):\n",
    "        \"\"\"\n",
    "        INPUT:\n",
    "        X_train - np.array of shape (k, d)\n",
    "        y_train - np.array of shape (k,)\n",
    "        \"\"\"\n",
    "        \n",
    "        self.X_train = X_train\n",
    "        self.y_train = y_train\n",
    "           \n",
    "    def predict(self, X_test):\n",
    "        \"\"\"\n",
    "        INPUT:\n",
    "        X_test - np.array of shape (m, d)\n",
    "        \n",
    "        OUTPUT:\n",
    "        y_pred - np.array of shape (m,)\n",
    "        \"\"\"\n",
    "        self.X_test = X_test\n",
    "        \n",
    "        forest = [] \n",
    "        y_pred = np.array([y_train.mean()]*len(y_train)) #пусть сначала все предсказания равны просто среднему значению y\n",
    "        pred = y_pred\n",
    "        for n in range(self.n_estimators): \n",
    "            residuals = -2*(y_train - y_pred) #это производная по MSE \n",
    "            tree = DecisionTreeRegressor(max_depth = self.max_depth) \n",
    "            tree.fit(X_train, residuals) #обучаем тдеревья на разницу между y_train и предсказанными значениями\n",
    "            forest.append(tree) \n",
    "            predictions = tree.predict(X_train) \n",
    "            y_pred = y_pred + self.learning_rate*predictions #получаем новый y_pred. Следующее дерево будет учиться на \n",
    "            #новых предсказанных значениях и улучшать ответ предыдущего дерева\n",
    "\n",
    "        y_pred = np.array([pred[0]]*len(X_test)) \n",
    "        for tree in forest: \n",
    "            y_pred = y_pred + self.learning_rate*tree.predict(X_test)\n",
    "\n",
    "        return y_pred"
   ]
  },
  {
   "cell_type": "markdown",
   "metadata": {},
   "source": [
    "Проверьте вашу реализацию. Подберите оптимальные гиперпараметры, чтобы получить MSE < 10 как в обычном случае, так и при нахождении оптимального шага **(не меняйте параметры сида)**."
   ]
  },
  {
   "cell_type": "code",
   "execution_count": 15,
   "metadata": {},
   "outputs": [],
   "source": [
    "X = boston.data\n",
    "y = boston.target\n",
    "X_train, X_test, y_train, y_test = train_test_split(X, y, test_size=0.25, random_state=13)"
   ]
  },
  {
   "cell_type": "code",
   "execution_count": 16,
   "metadata": {},
   "outputs": [],
   "source": [
    "np.random.seed(19052019)\n",
    "\n",
    "DIY_GB = GradientBoosting(n_estimators = 120, max_depth = 7, learning_rate = 0.1)\n",
    "DIY_GB.fit(X_train, y_train)\n",
    "y_pred = DIY_GB.predict(X_test)"
   ]
  },
  {
   "cell_type": "code",
   "execution_count": 17,
   "metadata": {},
   "outputs": [
    {
     "data": {
      "text/plain": [
       "7.468474477403828e+20"
      ]
     },
     "execution_count": 17,
     "metadata": {},
     "output_type": "execute_result"
    }
   ],
   "source": [
    "mean_squared_error(y_test, y_pred)"
   ]
  },
  {
   "cell_type": "markdown",
   "metadata": {},
   "source": [
    "Для удобства проверяющего укажите, пожалуйста, реализовали ли вы нахождение оптимального шага?\n",
    "\n",
    "- Нет"
   ]
  },
  {
   "cell_type": "markdown",
   "metadata": {},
   "source": [
    "## Ансамблевые методы (10 баллов)"
   ]
  },
  {
   "cell_type": "markdown",
   "metadata": {},
   "source": [
    "Сопровождайте код изображениями и комментариями. Не игнорируйте вопросы, ваши выводы тоже оцениваются. Чем больше информации вы сможете извлечь, аргументированных выводов сформулировать, тем лучше. Не забывайте подписывать графики и будет вам счастье!"
   ]
  },
  {
   "cell_type": "code",
   "execution_count": 31,
   "metadata": {
    "ExecuteTime": {
     "end_time": "2020-05-17T00:15:19.512036Z",
     "start_time": "2020-05-17T00:15:14.993278Z"
    }
   },
   "outputs": [],
   "source": [
    "import pandas as pd\n",
    "import numpy as np\n",
    "import matplotlib.pyplot as plt\n",
    "import os\n",
    "\n",
    "%matplotlib inline"
   ]
  },
  {
   "cell_type": "markdown",
   "metadata": {},
   "source": [
    "**0. (0 баллов) ** Загрузите [датасет](https://www.kaggle.com/uciml/pima-indians-diabetes-database/data), в нем вы найдете данные опрошенных женщин из индейского племени Пима. Будем решать задачу бинарной классификации: в колонке Outcome лежит метка наличия или отсутствия диабета - это наша целевая переменная. Есть ли пропущенные значения?"
   ]
  },
  {
   "cell_type": "code",
   "execution_count": 164,
   "metadata": {
    "ExecuteTime": {
     "end_time": "2020-05-17T10:01:14.609345Z",
     "start_time": "2020-05-17T10:01:14.469580Z"
    }
   },
   "outputs": [],
   "source": [
    "data = pd.read_csv('./diabetes.csv')"
   ]
  },
  {
   "cell_type": "code",
   "execution_count": 165,
   "metadata": {},
   "outputs": [
    {
     "data": {
      "text/html": [
       "<div>\n",
       "<style scoped>\n",
       "    .dataframe tbody tr th:only-of-type {\n",
       "        vertical-align: middle;\n",
       "    }\n",
       "\n",
       "    .dataframe tbody tr th {\n",
       "        vertical-align: top;\n",
       "    }\n",
       "\n",
       "    .dataframe thead th {\n",
       "        text-align: right;\n",
       "    }\n",
       "</style>\n",
       "<table border=\"1\" class=\"dataframe\">\n",
       "  <thead>\n",
       "    <tr style=\"text-align: right;\">\n",
       "      <th></th>\n",
       "      <th>Pregnancies</th>\n",
       "      <th>Glucose</th>\n",
       "      <th>BloodPressure</th>\n",
       "      <th>SkinThickness</th>\n",
       "      <th>Insulin</th>\n",
       "      <th>BMI</th>\n",
       "      <th>DiabetesPedigreeFunction</th>\n",
       "      <th>Age</th>\n",
       "      <th>Outcome</th>\n",
       "    </tr>\n",
       "  </thead>\n",
       "  <tbody>\n",
       "    <tr>\n",
       "      <td>0</td>\n",
       "      <td>6</td>\n",
       "      <td>148</td>\n",
       "      <td>72</td>\n",
       "      <td>35</td>\n",
       "      <td>0</td>\n",
       "      <td>33.6</td>\n",
       "      <td>0.627</td>\n",
       "      <td>50</td>\n",
       "      <td>1</td>\n",
       "    </tr>\n",
       "    <tr>\n",
       "      <td>1</td>\n",
       "      <td>1</td>\n",
       "      <td>85</td>\n",
       "      <td>66</td>\n",
       "      <td>29</td>\n",
       "      <td>0</td>\n",
       "      <td>26.6</td>\n",
       "      <td>0.351</td>\n",
       "      <td>31</td>\n",
       "      <td>0</td>\n",
       "    </tr>\n",
       "    <tr>\n",
       "      <td>2</td>\n",
       "      <td>8</td>\n",
       "      <td>183</td>\n",
       "      <td>64</td>\n",
       "      <td>0</td>\n",
       "      <td>0</td>\n",
       "      <td>23.3</td>\n",
       "      <td>0.672</td>\n",
       "      <td>32</td>\n",
       "      <td>1</td>\n",
       "    </tr>\n",
       "    <tr>\n",
       "      <td>3</td>\n",
       "      <td>1</td>\n",
       "      <td>89</td>\n",
       "      <td>66</td>\n",
       "      <td>23</td>\n",
       "      <td>94</td>\n",
       "      <td>28.1</td>\n",
       "      <td>0.167</td>\n",
       "      <td>21</td>\n",
       "      <td>0</td>\n",
       "    </tr>\n",
       "    <tr>\n",
       "      <td>4</td>\n",
       "      <td>0</td>\n",
       "      <td>137</td>\n",
       "      <td>40</td>\n",
       "      <td>35</td>\n",
       "      <td>168</td>\n",
       "      <td>43.1</td>\n",
       "      <td>2.288</td>\n",
       "      <td>33</td>\n",
       "      <td>1</td>\n",
       "    </tr>\n",
       "  </tbody>\n",
       "</table>\n",
       "</div>"
      ],
      "text/plain": [
       "   Pregnancies  Glucose  BloodPressure  SkinThickness  Insulin   BMI  \\\n",
       "0            6      148             72             35        0  33.6   \n",
       "1            1       85             66             29        0  26.6   \n",
       "2            8      183             64              0        0  23.3   \n",
       "3            1       89             66             23       94  28.1   \n",
       "4            0      137             40             35      168  43.1   \n",
       "\n",
       "   DiabetesPedigreeFunction  Age  Outcome  \n",
       "0                     0.627   50        1  \n",
       "1                     0.351   31        0  \n",
       "2                     0.672   32        1  \n",
       "3                     0.167   21        0  \n",
       "4                     2.288   33        1  "
      ]
     },
     "execution_count": 165,
     "metadata": {},
     "output_type": "execute_result"
    }
   ],
   "source": [
    "data.head()"
   ]
  },
  {
   "cell_type": "code",
   "execution_count": 166,
   "metadata": {},
   "outputs": [
    {
     "name": "stdout",
     "output_type": "stream",
     "text": [
      "(768, 9)\n"
     ]
    }
   ],
   "source": [
    "print(data.shape)"
   ]
  },
  {
   "cell_type": "code",
   "execution_count": 167,
   "metadata": {},
   "outputs": [
    {
     "data": {
      "text/plain": [
       "Pregnancies                 0\n",
       "Glucose                     0\n",
       "BloodPressure               0\n",
       "SkinThickness               0\n",
       "Insulin                     0\n",
       "BMI                         0\n",
       "DiabetesPedigreeFunction    0\n",
       "Age                         0\n",
       "Outcome                     0\n",
       "dtype: int64"
      ]
     },
     "execution_count": 167,
     "metadata": {},
     "output_type": "execute_result"
    }
   ],
   "source": [
    "pd.isna(data).sum() #Нет пропущенных значений"
   ]
  },
  {
   "cell_type": "markdown",
   "metadata": {},
   "source": [
    "**1. (0.5 балла)** Как вы думаете, является ли наличие нулей в некоторых колонках фактом того, что эти признаки имеют пропущенные значения? Замените нули на среднее значение признака там, где считаете это целесообразным."
   ]
  },
  {
   "cell_type": "code",
   "execution_count": 168,
   "metadata": {},
   "outputs": [
    {
     "data": {
      "text/plain": [
       "Pregnancies                 111\n",
       "Glucose                       5\n",
       "BloodPressure                35\n",
       "SkinThickness               227\n",
       "Insulin                     374\n",
       "BMI                          11\n",
       "DiabetesPedigreeFunction      0\n",
       "Age                           0\n",
       "Outcome                     500\n",
       "dtype: int64"
      ]
     },
     "execution_count": 168,
     "metadata": {},
     "output_type": "execute_result"
    }
   ],
   "source": [
    "data.isin([\"0\"]).sum(axis = 0) #смотрим, а где вообще есть нули "
   ]
  },
  {
   "cell_type": "markdown",
   "metadata": {},
   "source": [
    "Скорее всего, 0 означает пропущенное значение в случае:   \n",
    "- Glucose (Plasma glucose concentration a 2 hours in an oral glucose tolerance test) – интернеты говорят, что минимальное значение для этого теста – около 5.5, вряд ли он может равняться 0  \n",
    "- BloodPressure – давление может быть равно 0 уже при клинической смерти  \n",
    "- SkinThickness – измеряет толщину \"складки\", если зажать кожу на предплечье. Толщина тоже не может быть равна 0. Еще сайт World Health Organisation говорит, что даже для младенцев этот показатель минимум 4 мм. \n",
    "- Insulin – уровень инсулина в крови тоже не может быть равен 0, если человек еще жив, конечно  \n",
    "- BMI – индекс массы тела тоже не может быть равен 0 "
   ]
  },
  {
   "cell_type": "code",
   "execution_count": 169,
   "metadata": {},
   "outputs": [],
   "source": [
    "data[\"Glucose\"].replace(0, np.mean(data[\"Glucose\"]), inplace = True)\n",
    "data[\"BloodPressure\"].replace(0, np.mean(data[\"BloodPressure\"]), inplace = True)\n",
    "data[\"SkinThickness\"].replace(0, np.mean(data[\"SkinThickness\"]), inplace = True)\n",
    "data[\"Insulin\"].replace(0, np.mean(data[\"Insulin\"]), inplace = True)\n",
    "data[\"BMI\"].replace(0, np.mean(data[\"BMI\"]), inplace = True)"
   ]
  },
  {
   "cell_type": "code",
   "execution_count": 170,
   "metadata": {},
   "outputs": [
    {
     "data": {
      "text/plain": [
       "Pregnancies                 111\n",
       "Glucose                       0\n",
       "BloodPressure                 0\n",
       "SkinThickness                 0\n",
       "Insulin                       0\n",
       "BMI                           0\n",
       "DiabetesPedigreeFunction      0\n",
       "Age                           0\n",
       "Outcome                     500\n",
       "dtype: int64"
      ]
     },
     "execution_count": 170,
     "metadata": {},
     "output_type": "execute_result"
    }
   ],
   "source": [
    "data.isin([\"0\"]).sum(axis = 0) #вот теперь хорошо"
   ]
  },
  {
   "cell_type": "markdown",
   "metadata": {},
   "source": [
    "**2. (1 балл)** Визуализируйте распределение признаков по отдельности для больных диабетом и здоровых. Ваши графики должны быть примерно такими:\n",
    "\n",
    "![Image](https://d.radikal.ru/d03/2005/f8/0ffb9443cbcf.png)"
   ]
  },
  {
   "cell_type": "code",
   "execution_count": 171,
   "metadata": {},
   "outputs": [
    {
     "data": {
      "image/png": "[encoded data removed]",
      "text/plain": [
       "<Figure size 720x720 with 9 Axes>"
      ]
     },
     "metadata": {
      "needs_background": "light"
     },
     "output_type": "display_data"
    }
   ],
   "source": [
    "def histograms_plot(dataframe, features, rows, cols):\n",
    "    fig = plt.figure(figsize = (10,10))\n",
    "    for i, feature in enumerate(features):\n",
    "        ax = fig.add_subplot(rows, cols, i+1)\n",
    "        dataframe.groupby(\"Outcome\")[feature].hist(bins = 35, ax = ax, alpha = 0.5, fill = \"Outcome\")\n",
    "        ax.set_title(feature)\n",
    "        ax.legend([\"Have Diabetes = NO\", \"Have Diabetes = YES\"], fontsize = \"small\")\n",
    "\n",
    "    fig.tight_layout()  \n",
    "    plt.show()\n",
    "histograms_plot(data, data.columns, 3, 3)"
   ]
  },
  {
   "cell_type": "markdown",
   "metadata": {},
   "source": [
    "**3. (2 балла)** Разбейте данные на обучающую и тестовую часть в соотношении 70:30. Обучите *BaggingClassifier* на деревьях (поставьте параметр *base_estimator = DecisionTreeClassifier()*) и *RandomForest*. Возьмите количество базовых алгоритмов, равное 10. Посчитайте accuracy, recall и precision. Есть ли какая-то разница между моделями и их результатами? Как вы думаете, почему получились такие результаты?\n",
    "\n",
    "*tip: создайте отдельную функцию для вывода метрик качества;*"
   ]
  },
  {
   "cell_type": "code",
   "execution_count": 172,
   "metadata": {
    "ExecuteTime": {
     "end_time": "2020-05-17T14:10:20.171445Z",
     "start_time": "2020-05-17T14:10:20.156474Z"
    }
   },
   "outputs": [],
   "source": [
    "from sklearn.model_selection import train_test_split\n",
    "from sklearn.metrics import accuracy_score, precision_score, recall_score\n",
    "from sklearn.ensemble import BaggingClassifier, RandomForestClassifier"
   ]
  },
  {
   "cell_type": "code",
   "execution_count": 173,
   "metadata": {},
   "outputs": [],
   "source": [
    "X = data[data.columns[~data.columns.isin([\"Outcome\"])]]\n",
    "y = data[\"Outcome\"]"
   ]
  },
  {
   "cell_type": "code",
   "execution_count": 174,
   "metadata": {},
   "outputs": [
    {
     "data": {
      "text/html": [
       "<div>\n",
       "<style scoped>\n",
       "    .dataframe tbody tr th:only-of-type {\n",
       "        vertical-align: middle;\n",
       "    }\n",
       "\n",
       "    .dataframe tbody tr th {\n",
       "        vertical-align: top;\n",
       "    }\n",
       "\n",
       "    .dataframe thead th {\n",
       "        text-align: right;\n",
       "    }\n",
       "</style>\n",
       "<table border=\"1\" class=\"dataframe\">\n",
       "  <thead>\n",
       "    <tr style=\"text-align: right;\">\n",
       "      <th></th>\n",
       "      <th>Pregnancies</th>\n",
       "      <th>Glucose</th>\n",
       "      <th>BloodPressure</th>\n",
       "      <th>SkinThickness</th>\n",
       "      <th>Insulin</th>\n",
       "      <th>BMI</th>\n",
       "      <th>DiabetesPedigreeFunction</th>\n",
       "      <th>Age</th>\n",
       "    </tr>\n",
       "  </thead>\n",
       "  <tbody>\n",
       "    <tr>\n",
       "      <td>0</td>\n",
       "      <td>6</td>\n",
       "      <td>148.0</td>\n",
       "      <td>72.0</td>\n",
       "      <td>35.000000</td>\n",
       "      <td>79.799479</td>\n",
       "      <td>33.6</td>\n",
       "      <td>0.627</td>\n",
       "      <td>50</td>\n",
       "    </tr>\n",
       "    <tr>\n",
       "      <td>1</td>\n",
       "      <td>1</td>\n",
       "      <td>85.0</td>\n",
       "      <td>66.0</td>\n",
       "      <td>29.000000</td>\n",
       "      <td>79.799479</td>\n",
       "      <td>26.6</td>\n",
       "      <td>0.351</td>\n",
       "      <td>31</td>\n",
       "    </tr>\n",
       "    <tr>\n",
       "      <td>2</td>\n",
       "      <td>8</td>\n",
       "      <td>183.0</td>\n",
       "      <td>64.0</td>\n",
       "      <td>20.536458</td>\n",
       "      <td>79.799479</td>\n",
       "      <td>23.3</td>\n",
       "      <td>0.672</td>\n",
       "      <td>32</td>\n",
       "    </tr>\n",
       "    <tr>\n",
       "      <td>3</td>\n",
       "      <td>1</td>\n",
       "      <td>89.0</td>\n",
       "      <td>66.0</td>\n",
       "      <td>23.000000</td>\n",
       "      <td>94.000000</td>\n",
       "      <td>28.1</td>\n",
       "      <td>0.167</td>\n",
       "      <td>21</td>\n",
       "    </tr>\n",
       "    <tr>\n",
       "      <td>4</td>\n",
       "      <td>0</td>\n",
       "      <td>137.0</td>\n",
       "      <td>40.0</td>\n",
       "      <td>35.000000</td>\n",
       "      <td>168.000000</td>\n",
       "      <td>43.1</td>\n",
       "      <td>2.288</td>\n",
       "      <td>33</td>\n",
       "    </tr>\n",
       "  </tbody>\n",
       "</table>\n",
       "</div>"
      ],
      "text/plain": [
       "   Pregnancies  Glucose  BloodPressure  SkinThickness     Insulin   BMI  \\\n",
       "0            6    148.0           72.0      35.000000   79.799479  33.6   \n",
       "1            1     85.0           66.0      29.000000   79.799479  26.6   \n",
       "2            8    183.0           64.0      20.536458   79.799479  23.3   \n",
       "3            1     89.0           66.0      23.000000   94.000000  28.1   \n",
       "4            0    137.0           40.0      35.000000  168.000000  43.1   \n",
       "\n",
       "   DiabetesPedigreeFunction  Age  \n",
       "0                     0.627   50  \n",
       "1                     0.351   31  \n",
       "2                     0.672   32  \n",
       "3                     0.167   21  \n",
       "4                     2.288   33  "
      ]
     },
     "execution_count": 174,
     "metadata": {},
     "output_type": "execute_result"
    }
   ],
   "source": [
    "X.head()"
   ]
  },
  {
   "cell_type": "code",
   "execution_count": 175,
   "metadata": {},
   "outputs": [
    {
     "data": {
      "text/html": [
       "<div>\n",
       "<style scoped>\n",
       "    .dataframe tbody tr th:only-of-type {\n",
       "        vertical-align: middle;\n",
       "    }\n",
       "\n",
       "    .dataframe tbody tr th {\n",
       "        vertical-align: top;\n",
       "    }\n",
       "\n",
       "    .dataframe thead th {\n",
       "        text-align: right;\n",
       "    }\n",
       "</style>\n",
       "<table border=\"1\" class=\"dataframe\">\n",
       "  <thead>\n",
       "    <tr style=\"text-align: right;\">\n",
       "      <th></th>\n",
       "      <th>Pregnancies</th>\n",
       "      <th>Glucose</th>\n",
       "      <th>BloodPressure</th>\n",
       "      <th>SkinThickness</th>\n",
       "      <th>Insulin</th>\n",
       "      <th>BMI</th>\n",
       "      <th>DiabetesPedigreeFunction</th>\n",
       "      <th>Age</th>\n",
       "      <th>Outcome</th>\n",
       "    </tr>\n",
       "  </thead>\n",
       "  <tbody>\n",
       "    <tr>\n",
       "      <td>0</td>\n",
       "      <td>6</td>\n",
       "      <td>148.0</td>\n",
       "      <td>72.0</td>\n",
       "      <td>35.000000</td>\n",
       "      <td>79.799479</td>\n",
       "      <td>33.6</td>\n",
       "      <td>0.627</td>\n",
       "      <td>50</td>\n",
       "      <td>1</td>\n",
       "    </tr>\n",
       "    <tr>\n",
       "      <td>1</td>\n",
       "      <td>1</td>\n",
       "      <td>85.0</td>\n",
       "      <td>66.0</td>\n",
       "      <td>29.000000</td>\n",
       "      <td>79.799479</td>\n",
       "      <td>26.6</td>\n",
       "      <td>0.351</td>\n",
       "      <td>31</td>\n",
       "      <td>0</td>\n",
       "    </tr>\n",
       "    <tr>\n",
       "      <td>2</td>\n",
       "      <td>8</td>\n",
       "      <td>183.0</td>\n",
       "      <td>64.0</td>\n",
       "      <td>20.536458</td>\n",
       "      <td>79.799479</td>\n",
       "      <td>23.3</td>\n",
       "      <td>0.672</td>\n",
       "      <td>32</td>\n",
       "      <td>1</td>\n",
       "    </tr>\n",
       "    <tr>\n",
       "      <td>3</td>\n",
       "      <td>1</td>\n",
       "      <td>89.0</td>\n",
       "      <td>66.0</td>\n",
       "      <td>23.000000</td>\n",
       "      <td>94.000000</td>\n",
       "      <td>28.1</td>\n",
       "      <td>0.167</td>\n",
       "      <td>21</td>\n",
       "      <td>0</td>\n",
       "    </tr>\n",
       "    <tr>\n",
       "      <td>4</td>\n",
       "      <td>0</td>\n",
       "      <td>137.0</td>\n",
       "      <td>40.0</td>\n",
       "      <td>35.000000</td>\n",
       "      <td>168.000000</td>\n",
       "      <td>43.1</td>\n",
       "      <td>2.288</td>\n",
       "      <td>33</td>\n",
       "      <td>1</td>\n",
       "    </tr>\n",
       "  </tbody>\n",
       "</table>\n",
       "</div>"
      ],
      "text/plain": [
       "   Pregnancies  Glucose  BloodPressure  SkinThickness     Insulin   BMI  \\\n",
       "0            6    148.0           72.0      35.000000   79.799479  33.6   \n",
       "1            1     85.0           66.0      29.000000   79.799479  26.6   \n",
       "2            8    183.0           64.0      20.536458   79.799479  23.3   \n",
       "3            1     89.0           66.0      23.000000   94.000000  28.1   \n",
       "4            0    137.0           40.0      35.000000  168.000000  43.1   \n",
       "\n",
       "   DiabetesPedigreeFunction  Age  Outcome  \n",
       "0                     0.627   50        1  \n",
       "1                     0.351   31        0  \n",
       "2                     0.672   32        1  \n",
       "3                     0.167   21        0  \n",
       "4                     2.288   33        1  "
      ]
     },
     "execution_count": 175,
     "metadata": {},
     "output_type": "execute_result"
    }
   ],
   "source": [
    "data.head()"
   ]
  },
  {
   "cell_type": "code",
   "execution_count": 176,
   "metadata": {},
   "outputs": [],
   "source": [
    "x_train, x_test, y_train, y_test = train_test_split(X, y, test_size = 0.3, random_state=13)"
   ]
  },
  {
   "cell_type": "code",
   "execution_count": 177,
   "metadata": {},
   "outputs": [
    {
     "name": "stdout",
     "output_type": "stream",
     "text": [
      "(231, 8) (231,)\n"
     ]
    }
   ],
   "source": [
    "print(x_test.shape, y_test.shape)"
   ]
  },
  {
   "cell_type": "code",
   "execution_count": 178,
   "metadata": {},
   "outputs": [
    {
     "name": "stdout",
     "output_type": "stream",
     "text": [
      "(537, 8) (537,)\n"
     ]
    }
   ],
   "source": [
    "print(x_train.shape, y_train.shape)"
   ]
  },
  {
   "cell_type": "code",
   "execution_count": 179,
   "metadata": {},
   "outputs": [],
   "source": [
    "def print_metrics(model):\n",
    "    A = accuracy_score(model.predict(x_test), y_test)\n",
    "    P = precision_score(model.predict(x_test), y_test)\n",
    "    R = recall_score(model.predict(x_test), y_test)\n",
    "    print(\"Accuracy:\", A, \"Precision:\", P, \"Recall:\", R)\n",
    "    "
   ]
  },
  {
   "cell_type": "code",
   "execution_count": 180,
   "metadata": {},
   "outputs": [],
   "source": [
    "BG = BaggingClassifier(base_estimator = DecisionTreeClassifier(), n_estimators = 10, random_state = 13)"
   ]
  },
  {
   "cell_type": "code",
   "execution_count": 181,
   "metadata": {},
   "outputs": [],
   "source": [
    "BG.fit(x_train, y_train);"
   ]
  },
  {
   "cell_type": "code",
   "execution_count": 182,
   "metadata": {},
   "outputs": [
    {
     "name": "stdout",
     "output_type": "stream",
     "text": [
      "Accuracy: 0.7316017316017316 Precision: 0.5287356321839081 Recall: 0.6865671641791045\n"
     ]
    }
   ],
   "source": [
    "print_metrics(BG)"
   ]
  },
  {
   "cell_type": "code",
   "execution_count": 183,
   "metadata": {},
   "outputs": [],
   "source": [
    "RF = RandomForestClassifier(n_estimators = 10, random_state = 13)"
   ]
  },
  {
   "cell_type": "code",
   "execution_count": 184,
   "metadata": {},
   "outputs": [],
   "source": [
    "RF.fit(x_train, y_train);"
   ]
  },
  {
   "cell_type": "code",
   "execution_count": 185,
   "metadata": {},
   "outputs": [
    {
     "name": "stdout",
     "output_type": "stream",
     "text": [
      "Accuracy: 0.7402597402597403 Precision: 0.5057471264367817 Recall: 0.7213114754098361\n"
     ]
    }
   ],
   "source": [
    "print_metrics(RF)"
   ]
  },
  {
   "cell_type": "markdown",
   "metadata": {},
   "source": [
    "Accuracy выше у случайного леса, precision чуть выше у бэггинга, а чуть выше recall у случайного леса. При этом, в обоих случаях precision меньше, чем recall. Может быть, такие результаты получились из-за не слишком сбалансированной выборки – поэтому найти все положительные объекты модели относително легко удается, а добиться того, чтоб в положительный класс попадали только положительные объекты – не очень. "
   ]
  },
  {
   "cell_type": "code",
   "execution_count": 186,
   "metadata": {},
   "outputs": [
    {
     "data": {
      "text/plain": [
       "0    0.651042\n",
       "1    0.348958\n",
       "Name: Outcome, dtype: float64"
      ]
     },
     "execution_count": 186,
     "metadata": {},
     "output_type": "execute_result"
    }
   ],
   "source": [
    "y.value_counts(normalize=True)"
   ]
  },
  {
   "cell_type": "markdown",
   "metadata": {},
   "source": [
    "Нулевого класса 65% во всей выборке – очень много нулевых объектов могут стать false positive. И наоборот, поскольку объектов первого класса мало, скорее всего, мы получим мало false negatives. FP учитывается в precision, FN – в recall, поэтому recall получается довольно высокий, а precision не очень. "
   ]
  },
  {
   "cell_type": "markdown",
   "metadata": {},
   "source": [
    "**4. (2 балл)** Для случайного леса проанализируйте значение ROC-AUC на этих же данных в зависимости от изменения параметров:\n",
    "* *n_estimators* (можно перебрать около 10 значений из отрезка от 10 до 1500)\n",
    "* *min_samples_leaf* (сетку значений можете выбрать на ваше усмотрение)\n",
    "\n",
    "Постройте соответствующие графики зависимости ROC-AUC от этих параметров. Какие выводы можете сделать?"
   ]
  },
  {
   "cell_type": "code",
   "execution_count": 62,
   "metadata": {},
   "outputs": [],
   "source": [
    "from sklearn.metrics import roc_auc_score"
   ]
  },
  {
   "cell_type": "code",
   "execution_count": 63,
   "metadata": {},
   "outputs": [
    {
     "data": {
      "image/png": "[encoded data removed]",
      "text/plain": [
       "<Figure size 576x360 with 1 Axes>"
      ]
     },
     "metadata": {
      "needs_background": "light"
     },
     "output_type": "display_data"
    }
   ],
   "source": [
    "n_trees = [10, 50, 100, 200, 300, 500, 700, 1000, 1200, 1500]\n",
    "quals_test = []\n",
    "for n in n_trees:\n",
    "    rf = RandomForestClassifier(n_estimators = n, random_state = 13)\n",
    "    rf.fit(x_train, y_train)\n",
    "    q_test = roc_auc_score(y_test, rf.predict_proba(x_test)[:, 1])\n",
    "    quals_test.append(q_test)\n",
    "    \n",
    "plt.figure(figsize=(8, 5))\n",
    "plt.plot(n_trees, quals_test, marker='.')\n",
    "plt.xlabel('Number of trees')\n",
    "plt.ylabel('AUC-ROC')\n",
    "plt.title(\"AUC-ROC for different numbers of trees\")\n",
    "\n",
    "\n",
    "plt.show()"
   ]
  },
  {
   "cell_type": "code",
   "execution_count": 64,
   "metadata": {},
   "outputs": [
    {
     "data": {
      "image/png": "[encoded data removed]",
      "text/plain": [
       "<Figure size 576x360 with 1 Axes>"
      ]
     },
     "metadata": {
      "needs_background": "light"
     },
     "output_type": "display_data"
    }
   ],
   "source": [
    "min_leafs = range(1, 150, 10)\n",
    "quals_test = []\n",
    "for n in min_leafs:\n",
    "    rf = RandomForestClassifier(min_samples_leaf = n, n_estimators = 100, random_state = 13)\n",
    "    rf.fit(x_train, y_train)\n",
    "    q_test = roc_auc_score(y_test, rf.predict_proba(x_test)[:, 1])\n",
    "    quals_test.append(q_test)\n",
    "    \n",
    "plt.figure(figsize=(8, 5))\n",
    "plt.plot(min_leafs , quals_test, marker='.')\n",
    "plt.xlabel('Min samples in a leaf')\n",
    "plt.ylabel('AUC-ROC')\n",
    "plt.title(\"AUC-ROC for different minimum numbers of samples in a leaf\")\n",
    "\n",
    "\n",
    "plt.show()"
   ]
  },
  {
   "cell_type": "markdown",
   "metadata": {},
   "source": [
    "Лучшее качество моделей выходит при n_trees = 500 или при min_samples_leaf равному 10 (при использовании дефолтного числа деревьев – 100). На втором графике видим некоторую неустойчивость – AUC-ROС в нескольких местах скачет вверх и вниз. Но тем не менее видно, что с повышением минимального числа объектов в листе модель начинается недообучаться и показывает плохое качество на тесте. Возможно, это также вызвано несбалансированностью классов или относительно небольшим размером выборки.   \n",
    "\n",
    "При этом, несмотря на то что результаты колеблются для min_samples_leaf, они остаются в довольно узком диапазоне 0.800–0.840 – то есть разницу мы наблюдаем не такую уж и большую даже при довольно большом диапазоне значений этого параметра. "
   ]
  },
  {
   "cell_type": "markdown",
   "metadata": {},
   "source": [
    "**5. (1 балл)**. Посмотрите, оказались ли какие-то признаки более важными, чем остальные? Воспользуйтесь соответствующим аттрибутом случайного леса в библиотеке sklearn, чтобы построить barplot."
   ]
  },
  {
   "cell_type": "code",
   "execution_count": 187,
   "metadata": {},
   "outputs": [
    {
     "name": "stdout",
     "output_type": "stream",
     "text": [
      "Pregnancies 0.08904875978097125\n",
      "Glucose 0.25854831701580133\n",
      "BloodPressure 0.08887297399185026\n",
      "SkinThickness 0.07383528666746873\n",
      "Insulin 0.06575984362368432\n",
      "BMI 0.15951855897305342\n",
      "DiabetesPedigreeFunction 0.12412387327512174\n",
      "Age 0.14029238667204894\n"
     ]
    }
   ],
   "source": [
    "RF = RandomForestClassifier(random_state = 13)\n",
    "RF.fit(x_train, y_train)\n",
    "for name, score in zip(x_train.columns, RF.feature_importances_):\n",
    "    print(name, score)"
   ]
  },
  {
   "cell_type": "markdown",
   "metadata": {},
   "source": [
    "Да, не все переменные оказываются важны. Самый важный признак – Glucose, показатель глюкозы в крови после теста (когда дают пить много водички с сахаром).  Не удивительно, что он самый важный, так как этот тест очень часто используется для выявления диабета (проверяет способность организама производить инсулин и ращеплять глюкозу). Еще из важный – BMI – индес массы тела. Повышенная масса тела и ожирение сильно коррелирует с диабетом 2 типа. С возратом то же самое – часто диабет 2 типа возникает не с рождения, а в более старшем возрасте, с возрастом вероятность развития болезни повышается. "
   ]
  },
  {
   "cell_type": "markdown",
   "metadata": {
    "ExecuteTime": {
     "end_time": "2020-05-17T13:29:37.720316Z",
     "start_time": "2020-05-17T13:29:37.711698Z"
    }
   },
   "source": [
    "**6. (2 балла)** Обучите HistGradientBoostingClassifier и GradientBoostingClassifier из sklearn. Опишите подробно, в чем заключается разница этих моделей. Подберите подходящее количество деревьев и проанализируйте метрики, с которыми мы работали выше."
   ]
  },
  {
   "cell_type": "code",
   "execution_count": 188,
   "metadata": {},
   "outputs": [],
   "source": [
    "from sklearn.experimental import enable_hist_gradient_boosting\n",
    "from sklearn.ensemble import GradientBoostingClassifier, HistGradientBoostingClassifier"
   ]
  },
  {
   "cell_type": "code",
   "execution_count": 189,
   "metadata": {},
   "outputs": [
    {
     "name": "stdout",
     "output_type": "stream",
     "text": [
      "Accuracy: 0.7575757575757576 Precision: 0.6091954022988506 Recall: 0.7066666666666667\n",
      "None AUC-ROC: 0.8169699872286079\n"
     ]
    }
   ],
   "source": [
    "GB = GradientBoostingClassifier(random_state = 13)\n",
    "GB.fit(x_train, y_train)\n",
    "print(print_metrics(GB), \"AUC-ROC:\", roc_auc_score(y_test, GB.predict_proba(x_test)[:, 1]))"
   ]
  },
  {
   "cell_type": "code",
   "execution_count": 190,
   "metadata": {},
   "outputs": [
    {
     "name": "stdout",
     "output_type": "stream",
     "text": [
      "Accuracy: 0.7445887445887446 Precision: 0.5747126436781609 Recall: 0.6944444444444444\n",
      "None AUC-ROC: 0.7934227330779055\n"
     ]
    }
   ],
   "source": [
    "HGB = HistGradientBoostingClassifier(random_state = 13)\n",
    "HGB.fit(x_train, y_train)\n",
    "print(print_metrics(HGB), \"AUC-ROC:\", roc_auc_score(y_test, HGB.predict_proba(x_test)[:, 1]))"
   ]
  },
  {
   "cell_type": "markdown",
   "metadata": {},
   "source": [
    "Пока что HistGradientBoostingClassifier выдает качество хуже, чем обычный бустинг"
   ]
  },
  {
   "cell_type": "markdown",
   "metadata": {},
   "source": [
    "Чем отличается HistGradientBoostingClassifier от обычного градиентного бустинга: значения всех признаков в датасете разбиваются на что-то вроде гистограммы – \"each feature of the input array X is binned into integer-valued bins\", то есть значения группируются в некоторое число интервалов равной ширины – из-за этого очент сильно уменьшается число возможных разбиений в каждой вершине. Подобный метод позволяет модели работать быстрее (особенно если большой датасет в 10000+ фичей) + отельный интервал зарезрвирован под пропущенные значения. Благодаря этому, HistGradientBoostingClassifier хорошо работает с пропущенными признаками и позволяет не заниматься дополнительно импутацией данных до обучения моделей. При обучении, объекта с пропущенным значением по данному признаку отправляются поочередно в левую и правую дочернюю вершину, далее оценивается изменение качества модели и определяется, куда они пойдут в итоге. Если во время обучения не было встречено пропущенных переменных, а в тестовых даннных они есть, то такие объекты пойдут в вершину, где больше значений с имеющимися данными (чтобы они не сконцентрировались в вершине, где мало данных, и не испортили предсказание) \n",
    "\n",
    "Не очень ясно, чем это все нам тут поможет, так как пропущенных значений у нас нет, а признаков всего 8. "
   ]
  },
  {
   "cell_type": "code",
   "execution_count": 69,
   "metadata": {},
   "outputs": [],
   "source": [
    "from sklearn.model_selection import GridSearchCV "
   ]
  },
  {
   "cell_type": "code",
   "execution_count": 70,
   "metadata": {},
   "outputs": [
    {
     "data": {
      "text/plain": [
       "({'mean_fit_time': array([0.06048393, 0.07496943, 0.09393902, 0.16088028, 0.28534207,\n",
       "         0.23095689, 0.23863916, 0.30740418, 0.60070782]),\n",
       "  'std_fit_time': array([0.04130186, 0.01579519, 0.01071574, 0.00888353, 0.10879052,\n",
       "         0.04020173, 0.00565885, 0.00244961, 0.02709296]),\n",
       "  'mean_score_time': array([0.00686884, 0.00814943, 0.00701513, 0.00689964, 0.00910025,\n",
       "         0.00762496, 0.0068686 , 0.00716276, 0.00772219]),\n",
       "  'std_score_time': array([0.00087696, 0.00309027, 0.00084042, 0.0006308 , 0.00550088,\n",
       "         0.00193793, 0.00110324, 0.00094282, 0.0007683 ]),\n",
       "  'param_n_estimators': masked_array(data=[10, 20, 25, 50, 60, 70, 80, 100, 200],\n",
       "               mask=[False, False, False, False, False, False, False, False,\n",
       "                     False],\n",
       "         fill_value='?',\n",
       "              dtype=object),\n",
       "  'params': [{'n_estimators': 10},\n",
       "   {'n_estimators': 20},\n",
       "   {'n_estimators': 25},\n",
       "   {'n_estimators': 50},\n",
       "   {'n_estimators': 60},\n",
       "   {'n_estimators': 70},\n",
       "   {'n_estimators': 80},\n",
       "   {'n_estimators': 100},\n",
       "   {'n_estimators': 200}],\n",
       "  'split0_test_score': array([0.75925926, 0.73148148, 0.74074074, 0.75925926, 0.74074074,\n",
       "         0.75925926, 0.75925926, 0.75925926, 0.75      ]),\n",
       "  'split1_test_score': array([0.77777778, 0.80555556, 0.78703704, 0.78703704, 0.78703704,\n",
       "         0.78703704, 0.76851852, 0.77777778, 0.77777778]),\n",
       "  'split2_test_score': array([0.68224299, 0.68224299, 0.68224299, 0.65420561, 0.64485981,\n",
       "         0.65420561, 0.6728972 , 0.65420561, 0.65420561]),\n",
       "  'split3_test_score': array([0.77570093, 0.80373832, 0.79439252, 0.76635514, 0.77570093,\n",
       "         0.76635514, 0.77570093, 0.77570093, 0.76635514]),\n",
       "  'split4_test_score': array([0.77570093, 0.79439252, 0.80373832, 0.76635514, 0.76635514,\n",
       "         0.76635514, 0.74766355, 0.75700935, 0.79439252]),\n",
       "  'mean_test_score': array([0.75413638, 0.76348217, 0.76163032, 0.74664244, 0.74293873,\n",
       "         0.74664244, 0.74480789, 0.74479058, 0.74854621]),\n",
       "  'std_test_score': array([0.03656194, 0.04892857, 0.04523421, 0.04714373, 0.05136274,\n",
       "         0.04714373, 0.03716105, 0.04606058, 0.04934732]),\n",
       "  'rank_test_score': array([3, 1, 2, 5, 9, 5, 7, 8, 4], dtype=int32)},\n",
       " {'n_estimators': 20},\n",
       " 0.7634821737625476,\n",
       " 0.7575757575757576)"
      ]
     },
     "execution_count": 70,
     "metadata": {},
     "output_type": "execute_result"
    }
   ],
   "source": [
    "param_grid = {\"n_estimators\": [10, 20, 25, 50, 60, 70, 80, 100, 200]}\n",
    "gsearch1 = GridSearchCV(GradientBoostingClassifier(random_state = 13), param_grid, cv = 5)\n",
    "gsearch1.fit(x_train, y_train)\n",
    "gsearch1.cv_results_, gsearch1.best_params_, gsearch1.best_score_, gsearch1.score(x_test, y_test)"
   ]
  },
  {
   "cell_type": "code",
   "execution_count": 71,
   "metadata": {},
   "outputs": [
    {
     "data": {
      "text/plain": [
       "({'mean_fit_time': array([0.17594738, 0.66137409, 0.56280456, 1.16970463, 1.49474187,\n",
       "         1.57323966, 1.02771878, 1.12477388, 2.89029136]),\n",
       "  'std_fit_time': array([0.10822447, 0.37453409, 0.30177352, 0.38255554, 1.18940069,\n",
       "         0.5300209 , 0.49810707, 0.16020565, 1.35436204]),\n",
       "  'mean_score_time': array([0.01218562, 0.02743807, 0.0169291 , 0.01406841, 0.02219677,\n",
       "         0.02129798, 0.01771607, 0.02366061, 0.03174896]),\n",
       "  'std_score_time': array([0.00681384, 0.02937455, 0.00879372, 0.00519313, 0.0100952 ,\n",
       "         0.00722102, 0.01211276, 0.00757488, 0.02119576]),\n",
       "  'param_max_iter': masked_array(data=[10, 20, 25, 50, 60, 70, 80, 100, 200],\n",
       "               mask=[False, False, False, False, False, False, False, False,\n",
       "                     False],\n",
       "         fill_value='?',\n",
       "              dtype=object),\n",
       "  'params': [{'max_iter': 10},\n",
       "   {'max_iter': 20},\n",
       "   {'max_iter': 25},\n",
       "   {'max_iter': 50},\n",
       "   {'max_iter': 60},\n",
       "   {'max_iter': 70},\n",
       "   {'max_iter': 80},\n",
       "   {'max_iter': 100},\n",
       "   {'max_iter': 200}],\n",
       "  'split0_test_score': array([0.65      , 0.70833333, 0.70833333, 0.66666667, 0.64285714,\n",
       "         0.62068966, 0.64285714, 0.66666667, 0.62962963]),\n",
       "  'split1_test_score': array([0.7826087 , 0.74193548, 0.73529412, 0.72222222, 0.72972973,\n",
       "         0.72222222, 0.72222222, 0.74285714, 0.69444444]),\n",
       "  'split2_test_score': array([0.56      , 0.57142857, 0.55172414, 0.53846154, 0.53846154,\n",
       "         0.51851852, 0.53571429, 0.51851852, 0.56      ]),\n",
       "  'split3_test_score': array([0.6875    , 0.72727273, 0.65714286, 0.64864865, 0.63888889,\n",
       "         0.62162162, 0.62162162, 0.57894737, 0.63888889]),\n",
       "  'split4_test_score': array([0.76      , 0.72222222, 0.71794872, 0.65853659, 0.64285714,\n",
       "         0.63636364, 0.63414634, 0.63414634, 0.65789474]),\n",
       "  'mean_test_score': array([0.68802174, 0.69423847, 0.67408863, 0.64690713, 0.63855889,\n",
       "         0.62388313, 0.63131232, 0.62822721, 0.63617154]),\n",
       "  'std_test_score': array([0.0799538 , 0.06233826, 0.06648721, 0.05993584, 0.06061132,\n",
       "         0.06471994, 0.05939498, 0.0763114 , 0.04409062]),\n",
       "  'rank_test_score': array([2, 1, 3, 4, 5, 9, 7, 8, 6], dtype=int32)},\n",
       " {'max_iter': 20},\n",
       " 0.6942384676255644,\n",
       " 0.7230769230769231)"
      ]
     },
     "execution_count": 71,
     "metadata": {},
     "output_type": "execute_result"
    }
   ],
   "source": [
    "param_grid = {\"max_iter\":  [10, 20, 25, 50, 60, 70, 80, 100, 200]} #наксолько я поняла из документации, \n",
    "#для бинарной классификации max_iter соотвествует числу деревьев\n",
    "gsearch2 = GridSearchCV(HistGradientBoostingClassifier(random_state = 13), param_grid, scoring = \"precision\", cv = 5)\n",
    "gsearch2.fit(x_train, y_train)\n",
    "gsearch2.cv_results_, gsearch2.best_params_, gsearch2.best_score_, gsearch2.score(x_test, y_test)"
   ]
  },
  {
   "cell_type": "code",
   "execution_count": 72,
   "metadata": {},
   "outputs": [
    {
     "name": "stdout",
     "output_type": "stream",
     "text": [
      "Accuracy: 0.7575757575757576 Precision: 0.5287356321839081 Recall: 0.7540983606557377\n",
      "None AUC-ROC: 0.8212005108556832\n"
     ]
    }
   ],
   "source": [
    "GB = GradientBoostingClassifier(n_estimators = 20, random_state = 13)\n",
    "GB.fit(x_train, y_train)\n",
    "print(print_metrics(GB), \"AUC-ROC:\", roc_auc_score(y_test, GB.predict_proba(x_test)[:, 1]))"
   ]
  },
  {
   "cell_type": "code",
   "execution_count": 73,
   "metadata": {},
   "outputs": [
    {
     "name": "stdout",
     "output_type": "stream",
     "text": [
      "Accuracy: 0.7489177489177489 Precision: 0.5402298850574713 Recall: 0.7230769230769231\n",
      "None AUC-ROC: 0.8103847381864623\n"
     ]
    }
   ],
   "source": [
    "HGB = HistGradientBoostingClassifier(max_iter = 20)\n",
    "HGB.fit(x_train, y_train)\n",
    "print(print_metrics(HGB), \"AUC-ROC:\", roc_auc_score(y_test, HGB.predict_proba(x_test)[:, 1]))"
   ]
  },
  {
   "cell_type": "markdown",
   "metadata": {},
   "source": [
    "Как вы видим, в итоге HistGradientBoostingClassifier классифицирует чуть хуже, чем обычный – но выдает более высокое значение precision. Как было отмечено выше, HistGradientBoostingClassifier имеет свои преимущества, но не то чтобы он предназначен для работы именно с нашими данными – то есть не очень большим датасетом и без пропущенных переменных. В целом в обоих моделях видим то же самое, что с бэггингом и случайным лесом – recall получается выше precision. Видимо, бустинг тоже не очень хорошо работает с нашей несбалансированной выборкой. "
   ]
  },
  {
   "cell_type": "markdown",
   "metadata": {},
   "source": [
    "**7. (1.5 балла)** Вспомните, что представляет собой [стэкинг моделей](https://scikit-learn.org/stable/modules/generated/sklearn.ensemble.StackingClassifier.html#sklearn.ensemble.StackingClassifier). Возьмите в качестве базовых моделей любой ансамблевый метод из тех, которые были использованы выше, и простой классфикатор из уже вами изученных на курсе. Как final_estimator используйте лог-регресссию. Посчитайте метрики для мета-классификатора. Улучшилось ли качество?"
   ]
  },
  {
   "cell_type": "code",
   "execution_count": 74,
   "metadata": {},
   "outputs": [],
   "source": [
    "# Можете и сами обучить логистическую поверх ответов, а не использовать `StackingClassifier`"
   ]
  },
  {
   "cell_type": "code",
   "execution_count": 75,
   "metadata": {
    "ExecuteTime": {
     "end_time": "2020-05-17T13:53:07.245421Z",
     "start_time": "2020-05-17T13:53:07.238527Z"
    }
   },
   "outputs": [],
   "source": [
    "from sklearn.ensemble import StackingClassifier\n",
    "from sklearn.linear_model import LogisticRegression\n",
    "from sklearn.svm import LinearSVC"
   ]
  },
  {
   "cell_type": "code",
   "execution_count": 114,
   "metadata": {},
   "outputs": [],
   "source": [
    "base_learners = [\n",
    "                 ('RF', RandomForestClassifier(n_estimators=100, random_state=123)),\n",
    "                 ('DT', DecisionTreeClassifier(random_state=123))\n",
    "                ]"
   ]
  },
  {
   "cell_type": "code",
   "execution_count": 115,
   "metadata": {},
   "outputs": [],
   "source": [
    "clf = StackingClassifier(estimators = base_learners, final_estimator = LogisticRegression(max_iter = 1000))"
   ]
  },
  {
   "cell_type": "code",
   "execution_count": 116,
   "metadata": {},
   "outputs": [
    {
     "data": {
      "text/plain": [
       "StackingClassifier(estimators=[('RF', RandomForestClassifier(random_state=123)),\n",
       "                               ('DT',\n",
       "                                DecisionTreeClassifier(random_state=123))],\n",
       "                   final_estimator=LogisticRegression(max_iter=1000))"
      ]
     },
     "execution_count": 116,
     "metadata": {},
     "output_type": "execute_result"
    }
   ],
   "source": [
    "clf.fit(x_train, y_train)"
   ]
  },
  {
   "cell_type": "code",
   "execution_count": 117,
   "metadata": {},
   "outputs": [
    {
     "name": "stdout",
     "output_type": "stream",
     "text": [
      "Accuracy: 0.7662337662337663 Precision: 0.5402298850574713 Recall: 0.7704918032786885\n"
     ]
    }
   ],
   "source": [
    "print_metrics(clf)"
   ]
  },
  {
   "cell_type": "code",
   "execution_count": 118,
   "metadata": {},
   "outputs": [
    {
     "name": "stdout",
     "output_type": "stream",
     "text": [
      "AUC-ROC: 0.8301005747126436\n"
     ]
    }
   ],
   "source": [
    "print(\"AUC-ROC:\", roc_auc_score(y_test, clf.predict_proba(x_test)[:, 1]))"
   ]
  },
  {
   "cell_type": "markdown",
   "metadata": {},
   "source": [
    "Качество несколько улучшилось – precision был выше на бустинге у обоих моделей (самый высокий был у обычного градиентного бустинга до тюнинга гиперпараметров - 0.6), зато recall, accuracy и AUC-ROC самые высокие среди всех моделей. Стекинг видимо привел к тому, что то, что хорошо получалось у базовых моделей – recall, AUC-ROC и accuracy – стали выше, когда precision остался где-то на среднем уровне (не лучшие результаты, но и не худшие). "
   ]
  },
  {
   "cell_type": "markdown",
   "metadata": {},
   "source": [
    "Попробую еще с бустингом, так как он выдавал очень хорошие результаты"
   ]
  },
  {
   "cell_type": "code",
   "execution_count": 119,
   "metadata": {},
   "outputs": [],
   "source": [
    "base_learners2 = [\n",
    "                 ('GB', GradientBoostingClassifier(random_state = 123)),\n",
    "                 ('DT', DecisionTreeClassifier(random_state=123))\n",
    "                ]"
   ]
  },
  {
   "cell_type": "code",
   "execution_count": 120,
   "metadata": {},
   "outputs": [],
   "source": [
    "clf2 = StackingClassifier(estimators = base_learners2, final_estimator = LogisticRegression(max_iter = 1000))"
   ]
  },
  {
   "cell_type": "code",
   "execution_count": 121,
   "metadata": {},
   "outputs": [
    {
     "data": {
      "text/plain": [
       "StackingClassifier(estimators=[('GB',\n",
       "                                GradientBoostingClassifier(random_state=123)),\n",
       "                               ('DT',\n",
       "                                DecisionTreeClassifier(random_state=123))],\n",
       "                   final_estimator=LogisticRegression(max_iter=1000))"
      ]
     },
     "execution_count": 121,
     "metadata": {},
     "output_type": "execute_result"
    }
   ],
   "source": [
    "clf2.fit(x_train, y_train)"
   ]
  },
  {
   "cell_type": "code",
   "execution_count": 122,
   "metadata": {},
   "outputs": [
    {
     "name": "stdout",
     "output_type": "stream",
     "text": [
      "Accuracy: 0.7402597402597403 Precision: 0.5057471264367817 Recall: 0.7213114754098361\n"
     ]
    }
   ],
   "source": [
    "print_metrics(clf2)"
   ]
  },
  {
   "cell_type": "code",
   "execution_count": 123,
   "metadata": {},
   "outputs": [
    {
     "name": "stdout",
     "output_type": "stream",
     "text": [
      "AUC-ROC: 0.8128192848020434\n"
     ]
    }
   ],
   "source": [
    "print(\"AUC-ROC:\", roc_auc_score(y_test, clf2.predict_proba(x_test)[:, 1]))"
   ]
  },
  {
   "cell_type": "markdown",
   "metadata": {},
   "source": [
    "Well, видимо сам по себе бустинг работает хорошо, а на стеке выдал средние результаты (и precision ниже среднего)"
   ]
  },
  {
   "cell_type": "markdown",
   "metadata": {
    "ExecuteTime": {
     "end_time": "2020-05-17T14:00:45.438403Z",
     "start_time": "2020-05-17T14:00:45.426725Z"
    }
   },
   "source": [
    "*tip: не забудьте завести список базовых алгоритмов*\n",
    "<code>\n",
    "base_learners = [\n",
    "                 ('name1', model1(),\n",
    "                 ('name2', model2())             \n",
    "                ]\n",
    "\n",
    "</code>"
   ]
  }
 ],
 "metadata": {
  "kernelspec": {
   "display_name": "Python 3",
   "language": "python",
   "name": "python3"
  },
  "language_info": {
   "codemirror_mode": {
    "name": "ipython",
    "version": 3
   },
   "file_extension": ".py",
   "mimetype": "text/x-python",
   "name": "python",
   "nbconvert_exporter": "python",
   "pygments_lexer": "ipython3",
   "version": "3.7.4"
  }
 },
 "nbformat": 4,
 "nbformat_minor": 2
}
